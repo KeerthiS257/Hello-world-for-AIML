{
  "nbformat": 4,
  "nbformat_minor": 0,
  "metadata": {
    "colab": {
      "provenance": []
    },
    "kernelspec": {
      "name": "python3",
      "display_name": "Python 3"
    },
    "language_info": {
      "name": "python"
    }
  },
  "cells": [
    {
      "cell_type": "code",
      "execution_count": null,
      "metadata": {
        "id": "HGxyDA9bY5hy"
      },
      "outputs": [],
      "source": [
        "import numpy as np\n",
        "\n",
        "class KNN:\n",
        "    def __init__(self, k):\n",
        "        self.k = k\n",
        "\n",
        "    def fit(self, X, y):\n",
        "        self.X_train = X\n",
        "        self.y_train = y\n",
        "\n",
        "    def euclidean_distance(self, X1, X2):\n",
        "        return np.sqrt(np.sum((X1 - X2) ** 2, axis=1))\n",
        "\n",
        "    def predict(self, X_test):\n",
        "        y_pred = []\n",
        "        for x in X_test:\n",
        "            distances = self.euclidean_distance(self.X_train, x)\n",
        "            indices = np.argsort(distances)[:self.k]\n",
        "            k_nearest_labels = self.y_train[indices]\n",
        "            unique, counts = np.unique(k_nearest_labels, return_counts=True)\n",
        "            y_pred.append(unique[np.argmax(counts)])\n",
        "        return np.array(y_pred)"
      ]
    },
    {
      "cell_type": "code",
      "source": [
        "#Using scikit-learn's KNN implementation and comparing it with our scratch implementation\n",
        "from sklearn.datasets import load_iris\n",
        "from sklearn.model_selection import train_test_split\n",
        "from sklearn.neighbors import KNeighborsClassifier\n",
        "from sklearn.metrics import accuracy_score\n",
        "\n",
        "# Load the Iris dataset\n",
        "iris = load_iris()\n",
        "X, y = iris.data, iris.target\n",
        "\n",
        "# Split the data into training and testing sets\n",
        "X_train, X_test, y_train, y_test = train_test_split(X, y, test_size=0.2, random_state=42)"
      ],
      "metadata": {
        "id": "8_6fzigpZJho"
      },
      "execution_count": null,
      "outputs": []
    },
    {
      "cell_type": "code",
      "source": [
        "#Scratch KNN implementation\n",
        "knn_scratch = KNN(k=3)\n",
        "knn_scratch.fit(X_train, y_train)\n",
        "y_pred_scratch = knn_scratch.predict(X_test)\n",
        "accuracy_scratch = accuracy_score(y_test, y_pred_scratch)\n",
        "print(\"Accuracy (Scratch):\", accuracy_scratch)"
      ],
      "metadata": {
        "colab": {
          "base_uri": "https://localhost:8080/"
        },
        "id": "5JYH_XhGZc8H",
        "outputId": "57470711-5399-411c-9a5a-ed3e47729491"
      },
      "execution_count": null,
      "outputs": [
        {
          "output_type": "stream",
          "name": "stdout",
          "text": [
            "Accuracy (Scratch): 1.0\n"
          ]
        }
      ]
    },
    {
      "cell_type": "code",
      "source": [
        "#Scikit-learn's KNN implementation\n",
        "knn_sklearn = KNeighborsClassifier(n_neighbors=3)\n",
        "knn_sklearn.fit(X_train, y_train)\n",
        "y_pred_sklearn = knn_sklearn.predict(X_test)\n",
        "accuracy_sklearn = accuracy_score(y_test, y_pred_sklearn)\n",
        "print(\"Accuracy (scikit-learn):\", accuracy_sklearn)"
      ],
      "metadata": {
        "colab": {
          "base_uri": "https://localhost:8080/"
        },
        "id": "pTryvz1BZlrh",
        "outputId": "e96d8a23-7ad0-4f0a-e86b-09f6ddb3b628"
      },
      "execution_count": null,
      "outputs": [
        {
          "output_type": "stream",
          "name": "stdout",
          "text": [
            "Accuracy (scikit-learn): 1.0\n"
          ]
        }
      ]
    },
    {
      "cell_type": "code",
      "source": [
        "#Testing the KNN algorithm on artificial data\n",
        "from sklearn.datasets import make_classification\n",
        "\n",
        "# Generate synthetic data\n",
        "X, y = make_classification(n_samples=10000, n_features=10, random_state=42)\n",
        "\n",
        "# Split the data into training and testing sets\n",
        "X_train, X_test, y_train, y_test = train_test_split(X, y, test_size=0.2, random_state=42)\n",
        "\n",
        "# Our scratch KNN implementation\n",
        "knn_scratch = KNN(k=3)\n",
        "knn_scratch.fit(X_train, y_train)\n",
        "y_pred_scratch = knn_scratch.predict(X_test)\n",
        "accuracy_scratch = accuracy_score(y_test, y_pred_scratch)\n",
        "print(\"Accuracy (Scratch):\", accuracy_scratch)\n",
        "\n",
        "# Scikit-learn's KNN implementation\n",
        "knn_sklearn = KNeighborsClassifier(n_neighbors=3)\n",
        "knn_sklearn.fit(X_train, y_train)\n",
        "y_pred_sklearn = knn_sklearn.predict(X_test)\n",
        "accuracy_sklearn = accuracy_score(y_test, y_pred_sklearn)\n",
        "print(\"Accuracy (scikit-learn):\", accuracy_sklearn)"
      ],
      "metadata": {
        "colab": {
          "base_uri": "https://localhost:8080/"
        },
        "id": "6afr022GZxbk",
        "outputId": "d6337068-7a94-4b0f-fd6b-ada2daac1ecc"
      },
      "execution_count": null,
      "outputs": [
        {
          "output_type": "stream",
          "name": "stdout",
          "text": [
            "Accuracy (Scratch): 0.9095\n",
            "Accuracy (scikit-learn): 0.9095\n"
          ]
        }
      ]
    }
  ]
}