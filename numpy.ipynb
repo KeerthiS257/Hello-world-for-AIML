{
  "nbformat": 4,
  "nbformat_minor": 0,
  "metadata": {
    "colab": {
      "provenance": []
    },
    "kernelspec": {
      "name": "python3",
      "display_name": "Python 3"
    },
    "language_info": {
      "name": "python"
    }
  },
  "cells": [
    {
      "cell_type": "code",
      "execution_count": null,
      "metadata": {
        "colab": {
          "base_uri": "https://localhost:8080/"
        },
        "id": "Tiom4y_lDukm",
        "outputId": "f25f7f96-fb85-4727-e221-b633488d71a3"
      },
      "outputs": [
        {
          "output_type": "stream",
          "name": "stdout",
          "text": [
            "Type of arr: <class 'numpy.ndarray'>\n"
          ]
        }
      ],
      "source": [
        "import numpy as np\n",
        "\n",
        "lst = [2, 6, 1, 5]\n",
        "arr = np.array(lst)\n",
        "print(\"Type of arr:\", type(arr))  # Just to confirm arr is a NumPy array\n"
      ]
    },
    {
      "cell_type": "code",
      "source": [
        "lst1 = [1, 2, 3, 4, 5]\n",
        "lst2 = [5, 6, 7, 8, 9]\n",
        "lst3 = [11, 12, 13, 14, 15]\n",
        "\n",
        "arr = np.array([lst1, lst2, lst3])\n",
        "print(\"2D array:\\n\", arr)\n"
      ],
      "metadata": {
        "colab": {
          "base_uri": "https://localhost:8080/"
        },
        "id": "u4DyAZxCo2TP",
        "outputId": "d23024bb-ea58-4127-d14e-9a9921225e3a"
      },
      "execution_count": null,
      "outputs": [
        {
          "output_type": "stream",
          "name": "stdout",
          "text": [
            "2D array:\n",
            " [[ 1  2  3  4  5]\n",
            " [ 5  6  7  8  9]\n",
            " [11 12 13 14 15]]\n"
          ]
        }
      ]
    },
    {
      "cell_type": "code",
      "source": [
        "print(\"Element at row 1, column 3:\", arr[1, 3])  # Access element\n",
        "\n",
        "arr[2, 4] = 16  # Change value at 3rd row, 5th column\n",
        "print(\"Array after change:\\n\", arr)\n"
      ],
      "metadata": {
        "colab": {
          "base_uri": "https://localhost:8080/"
        },
        "id": "xDJtnTkFo8V1",
        "outputId": "051617ad-ad40-4d33-9a27-4bd598fbc172"
      },
      "execution_count": null,
      "outputs": [
        {
          "output_type": "stream",
          "name": "stdout",
          "text": [
            "Element at row 1, column 3: 8\n",
            "Array after change:\n",
            " [[ 1  2  3  4  5]\n",
            " [ 5  6  7  8  9]\n",
            " [11 12 13 14 16]]\n"
          ]
        }
      ]
    },
    {
      "cell_type": "code",
      "source": [
        "print(\"Slice of array (rows 0-1, cols 2-3):\\n\", arr[0:2, 2:4])\n"
      ],
      "metadata": {
        "colab": {
          "base_uri": "https://localhost:8080/"
        },
        "id": "ohjl95yno_4i",
        "outputId": "137d2d24-eeaf-49a4-a509-dc734421f502"
      },
      "execution_count": null,
      "outputs": [
        {
          "output_type": "stream",
          "name": "stdout",
          "text": [
            "Slice of array (rows 0-1, cols 2-3):\n",
            " [[3 4]\n",
            " [7 8]]\n"
          ]
        }
      ]
    },
    {
      "cell_type": "code",
      "source": [
        "print(\"Elements less than 4:\\n\", arr[arr < 4])\n"
      ],
      "metadata": {
        "colab": {
          "base_uri": "https://localhost:8080/"
        },
        "id": "BhPYvnsLpC-h",
        "outputId": "cce0f05e-10da-4abd-d301-b1eb7978aa0f"
      },
      "execution_count": null,
      "outputs": [
        {
          "output_type": "stream",
          "name": "stdout",
          "text": [
            "Elements less than 4:\n",
            " [1 2 3]\n"
          ]
        }
      ]
    },
    {
      "cell_type": "code",
      "source": [
        "reshaped = arr.reshape(5, 3)\n",
        "print(\"Reshaped array (5 rows, 3 columns):\\n\", reshaped)\n"
      ],
      "metadata": {
        "colab": {
          "base_uri": "https://localhost:8080/"
        },
        "id": "J9eD12xUpGgz",
        "outputId": "df60f783-fc94-4321-bc4d-c212351546b4"
      },
      "execution_count": null,
      "outputs": [
        {
          "output_type": "stream",
          "name": "stdout",
          "text": [
            "Reshaped array (5 rows, 3 columns):\n",
            " [[ 1  2  3]\n",
            " [ 4  5  5]\n",
            " [ 6  7  8]\n",
            " [ 9 11 12]\n",
            " [13 14 16]]\n"
          ]
        }
      ]
    },
    {
      "cell_type": "code",
      "source": [
        "range_arr = np.arange(1, 10, 2)\n",
        "print(\"Array with steps of 2:\", range_arr)\n"
      ],
      "metadata": {
        "colab": {
          "base_uri": "https://localhost:8080/"
        },
        "id": "kSZHxd3ApJ4v",
        "outputId": "071063f0-b10d-41e0-84cb-ded63f765fca"
      },
      "execution_count": null,
      "outputs": [
        {
          "output_type": "stream",
          "name": "stdout",
          "text": [
            "Array with steps of 2: [1 3 5 7 9]\n"
          ]
        }
      ]
    },
    {
      "cell_type": "code",
      "source": [
        "reshaped_3d = np.arange(1, 20, 2).reshape(5, 2, 1)\n",
        "print(\"3D array:\\n\", reshaped_3d)\n"
      ],
      "metadata": {
        "colab": {
          "base_uri": "https://localhost:8080/"
        },
        "id": "eUgyfvutpOua",
        "outputId": "7e00b1d1-c246-4656-caac-d760ea1fc55d"
      },
      "execution_count": null,
      "outputs": [
        {
          "output_type": "stream",
          "name": "stdout",
          "text": [
            "3D array:\n",
            " [[[ 1]\n",
            "  [ 3]]\n",
            "\n",
            " [[ 5]\n",
            "  [ 7]]\n",
            "\n",
            " [[ 9]\n",
            "  [11]]\n",
            "\n",
            " [[13]\n",
            "  [15]]\n",
            "\n",
            " [[17]\n",
            "  [19]]]\n"
          ]
        }
      ]
    },
    {
      "cell_type": "code",
      "source": [
        "list1 = [1, 2, 3, 4, 5]\n",
        "arr2 = np.array(list1)\n",
        "\n",
        "print(\"Squares of elements:\", arr2 * arr2)\n",
        "print(\"Squares of 2D array elements:\\n\", arr * arr)\n"
      ],
      "metadata": {
        "colab": {
          "base_uri": "https://localhost:8080/"
        },
        "id": "FlFlopPYpTbJ",
        "outputId": "05307770-06ac-4c41-c9d2-33d2fa20d1fe"
      },
      "execution_count": null,
      "outputs": [
        {
          "output_type": "stream",
          "name": "stdout",
          "text": [
            "Squares of elements: [ 1  4  9 16 25]\n",
            "Squares of 2D array elements:\n",
            " [[  1   4   9  16  25]\n",
            " [ 25  36  49  64  81]\n",
            " [121 144 169 196 256]]\n"
          ]
        }
      ]
    },
    {
      "cell_type": "code",
      "source": [
        "print(\"Array of ones (5x3):\\n\", np.ones((5, 3)))\n",
        "print(\"Array of zeros (2x3):\\n\", np.zeros((2, 3)))\n"
      ],
      "metadata": {
        "colab": {
          "base_uri": "https://localhost:8080/"
        },
        "id": "jUuDS8FwpW9A",
        "outputId": "b9b411bd-c3de-4170-baf3-ca78c62f57bb"
      },
      "execution_count": null,
      "outputs": [
        {
          "output_type": "stream",
          "name": "stdout",
          "text": [
            "Array of ones (5x3):\n",
            " [[1. 1. 1.]\n",
            " [1. 1. 1.]\n",
            " [1. 1. 1.]\n",
            " [1. 1. 1.]\n",
            " [1. 1. 1.]]\n",
            "Array of zeros (2x3):\n",
            " [[0. 0. 0.]\n",
            " [0. 0. 0.]]\n"
          ]
        }
      ]
    },
    {
      "cell_type": "code",
      "source": [
        "print(\"Random integers between 5 and 3100:\", np.random.randint(5, 3100, 4))\n",
        "print(\"Random normal values (1x2):\\n\", np.random.randn(1, 2))\n"
      ],
      "metadata": {
        "colab": {
          "base_uri": "https://localhost:8080/"
        },
        "id": "hV1I79SzpaLk",
        "outputId": "c46d42c8-5630-41b3-b8e9-00c8c044f1d5"
      },
      "execution_count": null,
      "outputs": [
        {
          "output_type": "stream",
          "name": "stdout",
          "text": [
            "Random integers between 5 and 3100: [ 472 1695 2066 1251]\n",
            "Random normal values (1x2):\n",
            " [[ 0.38575299 -1.50452351]]\n"
          ]
        }
      ]
    },
    {
      "cell_type": "code",
      "source": [
        "# Repeat 1D array three times\n",
        "lst1 = [1, 2, 3]\n",
        "arr1 = np.array(lst1)\n",
        "repeated_arr1d = np.tile(arr1, 3)\n",
        "print(\"Repeated 1D array:\\n\", repeated_arr1d)\n",
        "\n",
        "# Repeat 2D array twice vertically and thrice horizontally\n",
        "lst2 = [[2, 6, 1, 5]]\n",
        "arr2d = np.array(lst2)\n",
        "repeated_arr2d = np.tile(arr2d, (2, 3))\n",
        "print(\"Repeated 2D array:\\n\", repeated_arr2d)\n"
      ],
      "metadata": {
        "colab": {
          "base_uri": "https://localhost:8080/"
        },
        "id": "-3PC8A89pe3z",
        "outputId": "273c53c8-33b2-4802-8c6b-2cfb44cd926e"
      },
      "execution_count": null,
      "outputs": [
        {
          "output_type": "stream",
          "name": "stdout",
          "text": [
            "Repeated 1D array:\n",
            " [1 2 3 1 2 3 1 2 3]\n",
            "Repeated 2D array:\n",
            " [[2 6 1 5 2 6 1 5 2 6 1 5]\n",
            " [2 6 1 5 2 6 1 5 2 6 1 5]]\n"
          ]
        }
      ]
    },
    {
      "cell_type": "code",
      "source": [
        "ascending_arr = np.arange(1, 13).reshape(3, 4)\n",
        "print(\"Ascending ordered array:\\n\", ascending_arr)\n"
      ],
      "metadata": {
        "colab": {
          "base_uri": "https://localhost:8080/"
        },
        "id": "Qa8h_m1Npj9w",
        "outputId": "95cbc9ce-a47c-4c11-b420-5cda6a4d65ce"
      },
      "execution_count": null,
      "outputs": [
        {
          "output_type": "stream",
          "name": "stdout",
          "text": [
            "Ascending ordered array:\n",
            " [[ 1  2  3  4]\n",
            " [ 5  6  7  8]\n",
            " [ 9 10 11 12]]\n"
          ]
        }
      ]
    }
  ]
}