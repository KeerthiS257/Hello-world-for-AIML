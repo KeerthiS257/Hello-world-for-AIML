{
  "nbformat": 4,
  "nbformat_minor": 0,
  "metadata": {
    "colab": {
      "provenance": []
    },
    "kernelspec": {
      "name": "python3",
      "display_name": "Python 3"
    },
    "language_info": {
      "name": "python"
    }
  },
  "cells": [
    {
      "cell_type": "code",
      "execution_count": null,
      "metadata": {
        "colab": {
          "base_uri": "https://localhost:8080/"
        },
        "id": "Qh9nItfnrrqT",
        "outputId": "2b816c79-225b-44b5-95c7-e89ea44305da"
      },
      "outputs": [
        {
          "output_type": "stream",
          "name": "stdout",
          "text": [
            "Mean Absolute Error (MAE): 0.475\n",
            "Mean Squared Error (MSE): 0.287\n",
            "Root Mean Squared Error (RMSE): 0.536\n",
            "R² Score: 0.961\n"
          ]
        }
      ],
      "source": [
        "# Import necessary libraries\n",
        "from sklearn.metrics import mean_absolute_error, mean_squared_error, r2_score\n",
        "import numpy as np\n",
        "\n",
        "# Example: actual vs predicted values\n",
        "y_true = [3.0, -0.5, 2.0, 7.0]\n",
        "y_pred = [2.5, 0.0, 2.1, 7.8]\n",
        "\n",
        "# Mean Absolute Error\n",
        "mae = mean_absolute_error(y_true, y_pred)\n",
        "# Mean Squared Error\n",
        "mse = mean_squared_error(y_true, y_pred)\n",
        "# Root Mean Squared Error\n",
        "rmse = np.sqrt(mse)\n",
        "# R² Score\n",
        "r2 = r2_score(y_true, y_pred)\n",
        "\n",
        "# Print the metrics\n",
        "print(f\"Mean Absolute Error (MAE): {mae:.3f}\")\n",
        "print(f\"Mean Squared Error (MSE): {mse:.3f}\")\n",
        "print(f\"Root Mean Squared Error (RMSE): {rmse:.3f}\")\n",
        "print(f\"R² Score: {r2:.3f}\")\n"
      ]
    },
    {
      "cell_type": "markdown",
      "source": [
        "# New Section"
      ],
      "metadata": {
        "id": "QejZZxNMtBVt"
      }
    }
  ]
}