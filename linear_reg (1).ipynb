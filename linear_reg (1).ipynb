{
  "nbformat": 4,
  "nbformat_minor": 0,
  "metadata": {
    "colab": {
      "provenance": []
    },
    "kernelspec": {
      "name": "python3",
      "display_name": "Python 3"
    },
    "language_info": {
      "name": "python"
    }
  },
  "cells": [
    {
      "cell_type": "code",
      "execution_count": null,
      "metadata": {
        "id": "HbDnc3P-oNCN"
      },
      "outputs": [],
      "source": [
        "import numpy as np\n",
        "import pandas as pd\n",
        "import matplotlib.pyplot as plt"
      ]
    },
    {
      "cell_type": "code",
      "source": [
        "class LinearRegression:\n",
        "    def __init__(self, x , y):\n",
        "        self.data = x\n",
        "        self.label = y\n",
        "        self.m = 0\n",
        "        self.c = 0\n",
        "        self.n = len(x)\n",
        "\n",
        "    def fit(self , epochs , lr):\n",
        "\n",
        "        #Implementing Gradient Descent\n",
        "        for i in range(epochs):\n",
        "            y_pred = self.m * self.data + self.c\n",
        "\n",
        "            #Calculating derivatives w.r.t Parameters\n",
        "            D_m = (-2/self.n)*sum(self.data * (self.label - y_pred))\n",
        "            D_c = (-1/self.n)*sum(self.label-y_pred)\n",
        "\n",
        "            #Updating Parameters\n",
        "            self.m = self.m - lr * D_m\n",
        "            self.c = self.c - lr * D_c\n",
        "\n",
        "    def predict(self , inp):\n",
        "        y_pred = self.m * inp + self.c\n",
        "        return y_pred\n",
        "\n",
        "    def mse(self):\n",
        "        metric = sum((self.label - self.predict(self.data))**2)/self.n\n",
        "        return metric\n",
        "\n",
        "    def mae(self):\n",
        "        metric = sum(abs(self.label - self.predict(self.data)))/self.n\n",
        "        return metric"
      ],
      "metadata": {
        "id": "gSkmrEYdoi0q"
      },
      "execution_count": null,
      "outputs": []
    },
    {
      "cell_type": "code",
      "source": [
        "#df = pd.read_csv('train.csv')\n",
        "df = pd.read_csv('data_LinearRegression.csv')\n",
        "\n",
        "#Preparing the data\n",
        "x = np.array(df.iloc[:,0])\n",
        "y = np.array(df.iloc[:,1])\n",
        "\n",
        "#Creating the class object\n",
        "regressor = LinearRegression(x,y)\n",
        "\n",
        "#Training the model with .fit method\n",
        "regressor.fit(1000 , 0.0001) # epochs-1000 , learning_rate - 0.0001\n",
        "\n",
        "#Prediciting the values\n",
        "y_pred = regressor.predict(x)\n",
        "\n",
        "#Plotting the results\n",
        "plt.figure(figsize = (6,3))\n",
        "plt.scatter(x,y , color = 'green')\n",
        "plt.plot(x , y_pred , color = 'k' , lw = 3)\n",
        "plt.xlabel('x' , size = 10)\n",
        "plt.ylabel('y', size = 10)\n",
        "plt.show()"
      ],
      "metadata": {
        "colab": {
          "base_uri": "https://localhost:8080/",
          "height": 311
        },
        "id": "lNfN9ttMorUh",
        "outputId": "ae3cac6a-21ab-400b-b003-e5d3ef699498"
      },
      "execution_count": null,
      "outputs": [
        {
          "output_type": "display_data",
          "data": {
            "text/plain": [
              "<Figure size 600x300 with 1 Axes>"
            ],
            "image/png": "[encoded data removed]"
          },
          "metadata": {}
        }
      ]
    },
    {
      "cell_type": "code",
      "source": [
        "from sklearn.linear_model import LinearRegression as SklearnLR\n",
        "from sklearn.metrics import mean_absolute_error, mean_squared_error, r2_score\n",
        "\n",
        "# Reshape x for sklearn (sklearn expects 2D input)\n",
        "x_reshaped = x.reshape(-1, 1)\n",
        "\n",
        "# Initialize and train sklearn model\n",
        "sk_model = SklearnLR()\n",
        "sk_model.fit(x_reshaped, y)\n",
        "\n",
        "# Predict with sklearn model\n",
        "sk_pred = sk_model.predict(x_reshaped)\n",
        "\n",
        "# Print comparison metrics\n",
        "print(\"---- Comparison with scikit-learn ----\")\n",
        "print(f\"Custom Model MAE: {regressor.mae():.4f}\")\n",
        "print(f\"Sklearn Model MAE: {mean_absolute_error(y, sk_pred):.4f}\")\n",
        "\n",
        "print(f\"Custom Model MSE: {regressor.mse():.4f}\")\n",
        "print(f\"Sklearn Model MSE: {mean_squared_error(y, sk_pred):.4f}\")\n",
        "\n",
        "\n"
      ],
      "metadata": {
        "colab": {
          "base_uri": "https://localhost:8080/"
        },
        "id": "BiF5rd2tyHh3",
        "outputId": "6ecc9152-226d-497d-cea3-f67f2efae80e"
      },
      "execution_count": null,
      "outputs": [
        {
          "output_type": "stream",
          "name": "stdout",
          "text": [
            "---- Comparison with scikit-learn ----\n",
            "Custom Model MAE: 2.2494\n",
            "Sklearn Model MAE: 2.2493\n",
            "Custom Model MSE: 7.7870\n",
            "Sklearn Model MSE: 7.7869\n"
          ]
        }
      ]
    }
  ]
}